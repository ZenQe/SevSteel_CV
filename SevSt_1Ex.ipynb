{
  "nbformat": 4,
  "nbformat_minor": 0,
  "metadata": {
    "colab": {
      "name": "SevSt-1Ex.ipynb",
      "provenance": [],
      "collapsed_sections": [
        "CRhgWo30EsNl"
      ]
    },
    "kernelspec": {
      "name": "python3",
      "display_name": "Python 3"
    }
  },
  "cells": [
    {
      "cell_type": "code",
      "metadata": {
        "id": "eZLmYfh1iEi-"
      },
      "source": [
        "import pandas as pd\r\n",
        "import numpy as np\r\n",
        "from statsmodels.stats.weightstats import _tconfint_generic\r\n",
        "from scipy import stats as st\r\n",
        "import matplotlib.pyplot as plt\r\n",
        "import seaborn as sns"
      ],
      "execution_count": null,
      "outputs": []
    },
    {
      "cell_type": "code",
      "metadata": {
        "id": "LfdgEh2ViZN3"
      },
      "source": [
        "data = pd.read_csv('2018.csv', encoding='cp1251')"
      ],
      "execution_count": null,
      "outputs": []
    },
    {
      "cell_type": "code",
      "metadata": {
        "colab": {
          "base_uri": "https://localhost:8080/",
          "height": 143
        },
        "id": "qMmFzwH9idXt",
        "outputId": "c3ee4171-6d77-44c8-a55b-0455312b4b49"
      },
      "source": [
        "data.head(3)"
      ],
      "execution_count": null,
      "outputs": [
        {
          "output_type": "execute_result",
          "data": {
            "text/html": [
              "<div>\n",
              "<style scoped>\n",
              "    .dataframe tbody tr th:only-of-type {\n",
              "        vertical-align: middle;\n",
              "    }\n",
              "\n",
              "    .dataframe tbody tr th {\n",
              "        vertical-align: top;\n",
              "    }\n",
              "\n",
              "    .dataframe thead th {\n",
              "        text-align: right;\n",
              "    }\n",
              "</style>\n",
              "<table border=\"1\" class=\"dataframe\">\n",
              "  <thead>\n",
              "    <tr style=\"text-align: right;\">\n",
              "      <th></th>\n",
              "      <th>Число бракованных листов</th>\n",
              "      <th>Скорость прокатки</th>\n",
              "      <th>Марка стали</th>\n",
              "    </tr>\n",
              "  </thead>\n",
              "  <tbody>\n",
              "    <tr>\n",
              "      <th>0</th>\n",
              "      <td>3</td>\n",
              "      <td>3.8</td>\n",
              "      <td>A</td>\n",
              "    </tr>\n",
              "    <tr>\n",
              "      <th>1</th>\n",
              "      <td>3</td>\n",
              "      <td>3.8</td>\n",
              "      <td>B</td>\n",
              "    </tr>\n",
              "    <tr>\n",
              "      <th>2</th>\n",
              "      <td>3</td>\n",
              "      <td>4.8</td>\n",
              "      <td>B</td>\n",
              "    </tr>\n",
              "  </tbody>\n",
              "</table>\n",
              "</div>"
            ],
            "text/plain": [
              "   Число бракованных листов  Скорость прокатки Марка стали\n",
              "0                         3                3.8           A\n",
              "1                         3                3.8           B\n",
              "2                         3                4.8           B"
            ]
          },
          "metadata": {
            "tags": []
          },
          "execution_count": 3
        }
      ]
    },
    {
      "cell_type": "code",
      "metadata": {
        "colab": {
          "base_uri": "https://localhost:8080/"
        },
        "id": "4nMziLaMG1vw",
        "outputId": "010ac3f6-e881-4cb9-b8a0-2cc847e92398"
      },
      "source": [
        "data.info()"
      ],
      "execution_count": null,
      "outputs": [
        {
          "output_type": "stream",
          "text": [
            "<class 'pandas.core.frame.DataFrame'>\n",
            "RangeIndex: 237 entries, 0 to 236\n",
            "Data columns (total 3 columns):\n",
            " #   Column                    Non-Null Count  Dtype  \n",
            "---  ------                    --------------  -----  \n",
            " 0   Число бракованных листов  237 non-null    int64  \n",
            " 1   Скорость прокатки         237 non-null    float64\n",
            " 2   Марка стали               237 non-null    object \n",
            "dtypes: float64(1), int64(1), object(1)\n",
            "memory usage: 5.7+ KB\n"
          ],
          "name": "stdout"
        }
      ]
    },
    {
      "cell_type": "markdown",
      "metadata": {
        "id": "QouKC3sjHIUE"
      },
      "source": [
        "Предобработка данных не требуется - пропусков нет, тип данных корректный, однако переименуем названия столбцов для удобства дальнейшего анализа."
      ]
    },
    {
      "cell_type": "code",
      "metadata": {
        "id": "MGtBqEtxjbkm"
      },
      "source": [
        "data.columns = ['lists_count', 'speed', 'marks']"
      ],
      "execution_count": null,
      "outputs": []
    },
    {
      "cell_type": "code",
      "metadata": {
        "colab": {
          "base_uri": "https://localhost:8080/",
          "height": 81
        },
        "id": "njZzBJea7WnC",
        "outputId": "ee4ebba3-0a26-4b33-ac5d-3d562884418f"
      },
      "source": [
        "data.head(1)"
      ],
      "execution_count": null,
      "outputs": [
        {
          "output_type": "execute_result",
          "data": {
            "text/html": [
              "<div>\n",
              "<style scoped>\n",
              "    .dataframe tbody tr th:only-of-type {\n",
              "        vertical-align: middle;\n",
              "    }\n",
              "\n",
              "    .dataframe tbody tr th {\n",
              "        vertical-align: top;\n",
              "    }\n",
              "\n",
              "    .dataframe thead th {\n",
              "        text-align: right;\n",
              "    }\n",
              "</style>\n",
              "<table border=\"1\" class=\"dataframe\">\n",
              "  <thead>\n",
              "    <tr style=\"text-align: right;\">\n",
              "      <th></th>\n",
              "      <th>lists_count</th>\n",
              "      <th>speed</th>\n",
              "      <th>marks</th>\n",
              "    </tr>\n",
              "  </thead>\n",
              "  <tbody>\n",
              "    <tr>\n",
              "      <th>0</th>\n",
              "      <td>3</td>\n",
              "      <td>3.8</td>\n",
              "      <td>A</td>\n",
              "    </tr>\n",
              "  </tbody>\n",
              "</table>\n",
              "</div>"
            ],
            "text/plain": [
              "   lists_count  speed marks\n",
              "0            3    3.8     A"
            ]
          },
          "metadata": {
            "tags": []
          },
          "execution_count": 6
        }
      ]
    },
    {
      "cell_type": "markdown",
      "metadata": {
        "id": "CRhgWo30EsNl"
      },
      "source": [
        "## Гипотеза №1:<br>\r\n",
        "Более 3 бракованных листов на партию выходит значимо чаще для стали марки А, чем для стали марки B."
      ]
    },
    {
      "cell_type": "markdown",
      "metadata": {
        "id": "QgHF2evxywEK"
      },
      "source": [
        "Функция для подсчета количества партий с браком (>3), всего партий конкретной марки и процентное соотношений брака к общему количеству."
      ]
    },
    {
      "cell_type": "code",
      "metadata": {
        "id": "kj_rlmpG_5da"
      },
      "source": [
        "def analize_part_count(marks):\r\n",
        "  broke = data.query('lists_count > 3 & marks == @marks')['marks'].count()\r\n",
        "  all = data.query('marks == @marks')['marks'].count()\r\n",
        "  percent = round(\r\n",
        "      data.query('lists_count > 3 & marks == @marks')['marks'].count()/\r\n",
        "      data.query('marks == \"A\"')['marks'].count(), 3)*100\r\n",
        "  \r\n",
        "  print(f\"Количество партий стали марки \\'{marks}\\' с более чем 3 бракованными листами:\\n\", broke)\r\n",
        "  print(f\"Всего партий стали марки \\'{marks}\\':\\n\", all)\r\n",
        "  print(f\"Процент партий марки \\'{marks}\\' с более чем 3 бракованными листами:\\n\", percent, \"%\")"
      ],
      "execution_count": null,
      "outputs": []
    },
    {
      "cell_type": "code",
      "metadata": {
        "colab": {
          "base_uri": "https://localhost:8080/"
        },
        "id": "054xmMck__os",
        "outputId": "e8ea475e-b0e4-41d4-cc45-356f0ce75c60"
      },
      "source": [
        "analize_part_count(\"A\")"
      ],
      "execution_count": null,
      "outputs": [
        {
          "output_type": "stream",
          "text": [
            "Количество партий стали марки 'A' с более чем 3 бракованными листами:\n",
            " 53\n",
            "Всего партий стали марки 'A':\n",
            " 139\n",
            "Процент партий марки 'A' с более чем 3 бракованными листами:\n",
            " 38.1 %\n"
          ],
          "name": "stdout"
        }
      ]
    },
    {
      "cell_type": "code",
      "metadata": {
        "colab": {
          "base_uri": "https://localhost:8080/"
        },
        "id": "qSaOaYm9ANfS",
        "outputId": "b1f076a1-8a1c-4b1a-a743-5c36a267b453"
      },
      "source": [
        "analize_part_count(\"B\")"
      ],
      "execution_count": null,
      "outputs": [
        {
          "output_type": "stream",
          "text": [
            "Количество партий стали марки 'B' с более чем 3 бракованными листами:\n",
            " 44\n",
            "Всего партий стали марки 'B':\n",
            " 98\n",
            "Процент партий марки 'B' с более чем 3 бракованными листами:\n",
            " 31.7 %\n"
          ],
          "name": "stdout"
        }
      ]
    },
    {
      "cell_type": "markdown",
      "metadata": {
        "id": "301U-x20xZZX"
      },
      "source": [
        "На первый взгляд, количество **партий** стали марки \"А\" с более чем 3 бракованными листами и в количественном (53/44), и в процентном (38.1/31.7) соотношении больше, нежели партий марки \"В\". <br>"
      ]
    },
    {
      "cell_type": "markdown",
      "metadata": {
        "id": "3nQpd3GrAKdh"
      },
      "source": [
        "Проведем анализ с учетом количества бракованных **листов** в каждой партии:"
      ]
    },
    {
      "cell_type": "code",
      "metadata": {
        "colab": {
          "base_uri": "https://localhost:8080/",
          "height": 365
        },
        "id": "JmnCotK926J6",
        "outputId": "0b8fd3d6-5741-4c81-e6cc-72c8c5345744"
      },
      "source": [
        "plt.figure(figsize=(7,5))\r\n",
        "plt.bar(data.query('marks == \"A\"').groupby('lists_count')['marks'].count().index,\r\n",
        "        data.query('marks == \"A\"').groupby('lists_count')['marks'].count(),\r\n",
        "        color='orange', alpha=0.7, label=\"Mark A\")\r\n",
        "plt.bar(data.query('marks == \"B\"').groupby('lists_count')['marks'].count().index,\r\n",
        "        data.query('marks == \"B\"').groupby('lists_count')['marks'].count(),\r\n",
        "        color='b', alpha=0.7, label=\"Mark B\")\r\n",
        "plt.xticks(range(0,9))\r\n",
        "plt.axvline(x=3.48, color='r',linewidth=2.5, label=\"Брак > 3\", linestyle = '--')\r\n",
        "plt.title(\"Распределение количества листов с браком двух марок\\n\")\r\n",
        "plt.xlabel('Количество листов с браком в партии')\r\n",
        "plt.ylabel('Количество партий')\r\n",
        "plt.legend()\r\n",
        "plt.grid(alpha=.5)"
      ],
      "execution_count": null,
      "outputs": [
        {
          "output_type": "display_data",
          "data": {
            "image/png": "[encoded data removed]",
            "text/plain": [
              "<Figure size 504x360 with 1 Axes>"
            ]
          },
          "metadata": {
            "tags": [],
            "needs_background": "light"
          }
        }
      ]
    },
    {
      "cell_type": "code",
      "metadata": {
        "colab": {
          "base_uri": "https://localhost:8080/",
          "height": 383
        },
        "id": "hK8-mvCA5cIz",
        "outputId": "cf647a91-e78b-4c88-9dfe-821627cb528a"
      },
      "source": [
        "plt.figure(figsize=(7,5))\r\n",
        "plt.grid()\r\n",
        "plt.title(\"Ящики с 'усами' для каждой из марок\\n\")\r\n",
        "sns.boxplot(x=\"marks\", y=\"lists_count\", data=data, palette=['gold','b'])"
      ],
      "execution_count": null,
      "outputs": [
        {
          "output_type": "execute_result",
          "data": {
            "text/plain": [
              "<matplotlib.axes._subplots.AxesSubplot at 0x7ff52d857160>"
            ]
          },
          "metadata": {
            "tags": []
          },
          "execution_count": 11
        },
        {
          "output_type": "display_data",
          "data": {
            "image/png": "[encoded data removed]",
            "text/plain": [
              "<Figure size 504x360 with 1 Axes>"
            ]
          },
          "metadata": {
            "tags": [],
            "needs_background": "light"
          }
        }
      ]
    },
    {
      "cell_type": "markdown",
      "metadata": {
        "id": "LhyZei6TCzU3"
      },
      "source": [
        "Несмотря на то, что в процентном соотношении партий стали \"А\" с бракованными листами (которых > 3) больше, чем партий стали \"B\", визуально это не так очевидно.\r\n",
        "Чтобы окончательно убедиться в этом воспользуемся средним доверительным интервалом:"
      ]
    },
    {
      "cell_type": "code",
      "metadata": {
        "id": "JFwlipWdCKQu"
      },
      "source": [
        "#Функция подсчета среднего доверительного интервала\r\n",
        "def mean_confidence_interval(part): \r\n",
        "  interval_95 = _tconfint_generic(part.mean(), part.std(ddof=1)/np.sqrt(len(part)), \r\n",
        "                                  len(part)-1, 0.05, 'two-sided') \r\n",
        "  interval_90 = _tconfint_generic(part.mean(), part.std(ddof=1)/np.sqrt(len(part)), \r\n",
        "                                  len(part)-1, 0.1, 'two-sided')\r\n",
        "  return {'interval_95': interval_95, 'interval_90': interval_90, 'mean': part.mean()}"
      ],
      "execution_count": null,
      "outputs": []
    },
    {
      "cell_type": "code",
      "metadata": {
        "colab": {
          "base_uri": "https://localhost:8080/"
        },
        "id": "GokdRzIWCZf-",
        "outputId": "9524dcb9-c900-4af8-c08a-dcd2b246ee02"
      },
      "source": [
        "mean_confidence_interval(data.query('lists_count > 3 & marks == \"A\"')['lists_count'])"
      ],
      "execution_count": null,
      "outputs": [
        {
          "output_type": "execute_result",
          "data": {
            "text/plain": [
              "{'interval_90': (4.805042256187025, 5.421372838152599),\n",
              " 'interval_95': (4.743957591263485, 5.482457503076138),\n",
              " 'mean': 5.113207547169812}"
            ]
          },
          "metadata": {
            "tags": []
          },
          "execution_count": 13
        }
      ]
    },
    {
      "cell_type": "code",
      "metadata": {
        "colab": {
          "base_uri": "https://localhost:8080/"
        },
        "id": "_g5aBjI9Cm-4",
        "outputId": "91ffedae-1e6a-4149-997a-c693f9247719"
      },
      "source": [
        "mean_confidence_interval(data.query('lists_count > 3 & marks == \"B\"')['lists_count'])"
      ],
      "execution_count": null,
      "outputs": [
        {
          "output_type": "execute_result",
          "data": {
            "text/plain": [
              "{'interval_90': (4.606515208023005, 5.166212064704268),\n",
              " 'interval_95': (4.550644180687348, 5.2220830920399255),\n",
              " 'mean': 4.886363636363637}"
            ]
          },
          "metadata": {
            "tags": []
          },
          "execution_count": 14
        }
      ]
    },
    {
      "cell_type": "markdown",
      "metadata": {
        "id": "-yiq_bpzDuA0"
      },
      "source": [
        "Видно, что партий стали \"А\" с более чем 3 бракованными листами больше, нежели аналогичных партий стали \"В\" (доверительные 90% и 95% средние интервалы для стали \"А\" больше, чем для стали \"В\")."
      ]
    },
    {
      "cell_type": "markdown",
      "metadata": {
        "id": "_wXAwzWlFfZf"
      },
      "source": [
        "## Гипотеза №2:<br>\r\n",
        "При скоростях прокатки более 4 м/с свыше 3 бракованных листов стали на партию выходит значимо чаще, чем при меньших скоростях прокатки. "
      ]
    },
    {
      "cell_type": "code",
      "metadata": {
        "colab": {
          "base_uri": "https://localhost:8080/"
        },
        "id": "pKE4X6YRFlMj",
        "outputId": "9cf94dbe-aae4-4ac6-f905-5ddf4be5f71b"
      },
      "source": [
        "a =  data.query('speed > 4 and lists_count > 3')['marks'].count()\r\n",
        "print(\"Количество партий с более чем 3 бракованными листами и скоростью прокатки более 4 м/с:\\n\", a)"
      ],
      "execution_count": null,
      "outputs": [
        {
          "output_type": "stream",
          "text": [
            "Количество партий с более чем 3 бракованными листами и скоростью прокатки более 4 м/с:\n",
            " 74\n"
          ],
          "name": "stdout"
        }
      ]
    },
    {
      "cell_type": "code",
      "metadata": {
        "colab": {
          "base_uri": "https://localhost:8080/"
        },
        "id": "_J4UO2xAGUPD",
        "outputId": "a1b0b9ad-9ab5-4152-a627-68738ece34b5"
      },
      "source": [
        "b = data.query('speed <= 4 and lists_count > 3')['marks'].count()\r\n",
        "print(\"Количество партий с более чем 3 бракованными листами и скоростью прокатки не более 4 м/с:\\n\", b)"
      ],
      "execution_count": null,
      "outputs": [
        {
          "output_type": "stream",
          "text": [
            "Количество партий с более чем 3 бракованными листами и скоростью прокатки не более 4 м/с:\n",
            " 23\n"
          ],
          "name": "stdout"
        }
      ]
    },
    {
      "cell_type": "code",
      "metadata": {
        "colab": {
          "base_uri": "https://localhost:8080/"
        },
        "id": "82LJfZHPGzYU",
        "outputId": "a3b1a845-7e20-4664-cc39-e2777462a422"
      },
      "source": [
        "c = data.query('speed > 4')['marks'].count()\r\n",
        "print(\"Общее количество партий со скоростью прокатки более 4 м/c:\\n\", c)"
      ],
      "execution_count": null,
      "outputs": [
        {
          "output_type": "stream",
          "text": [
            "Общее количество партий со скоростью прокатки более 4 м/c:\n",
            " 179\n"
          ],
          "name": "stdout"
        }
      ]
    },
    {
      "cell_type": "code",
      "metadata": {
        "colab": {
          "base_uri": "https://localhost:8080/"
        },
        "id": "DG0AsoCrHsqW",
        "outputId": "b3ab8bce-7f11-4aad-88ad-d1cd2e4de80a"
      },
      "source": [
        "d = data.query('speed <= 4')['marks'].count()\r\n",
        "print(\"Общее количество партий со скоростью не более 4 м/c:\\n\", d)"
      ],
      "execution_count": null,
      "outputs": [
        {
          "output_type": "stream",
          "text": [
            "Общее количество партий со скоростью не более 4 м/c:\n",
            " 58\n"
          ],
          "name": "stdout"
        }
      ]
    },
    {
      "cell_type": "code",
      "metadata": {
        "colab": {
          "base_uri": "https://localhost:8080/"
        },
        "id": "K1f9SSf4Hvl1",
        "outputId": "75aa7a33-4505-4b17-94c4-fb33baa7b750"
      },
      "source": [
        "print(\"соотношение партий с более чем 3 бракованными листами при скорости более 4 м/c к общему:\\n\", round(a/c, 3))"
      ],
      "execution_count": null,
      "outputs": [
        {
          "output_type": "stream",
          "text": [
            "соотношение партий с более чем 3 бракованными листами при скорости более 4 м/c к общему:\n",
            " 0.413\n"
          ],
          "name": "stdout"
        }
      ]
    },
    {
      "cell_type": "code",
      "metadata": {
        "colab": {
          "base_uri": "https://localhost:8080/"
        },
        "id": "sXmPMyY6H9Bo",
        "outputId": "f1948d34-0f12-49d1-c40b-be4c862fe625"
      },
      "source": [
        "print(\"соотношение партий с более чем 3 бракованными листами при скорости НЕ более 4 м/c к общему:\\n\", round(b/d, 3))"
      ],
      "execution_count": null,
      "outputs": [
        {
          "output_type": "stream",
          "text": [
            "соотношение партий с более чем 3 бракованными листами при скорости НЕ более 4 м/c к общему:\n",
            " 0.397\n"
          ],
          "name": "stdout"
        }
      ]
    },
    {
      "cell_type": "markdown",
      "metadata": {
        "id": "BOaHbkRvYtFs"
      },
      "source": [
        "Даже при поверхностном анализе видно, что при скорости более 4 м/c, процент брака выше. Проверим теорию более тщательно:"
      ]
    },
    {
      "cell_type": "code",
      "metadata": {
        "colab": {
          "base_uri": "https://localhost:8080/",
          "height": 419
        },
        "id": "0h_N6nAgYkBl",
        "outputId": "a2d00751-de40-4f5e-eb69-839b11250eb8"
      },
      "source": [
        "plt.figure(figsize=(9,6))\r\n",
        "plt.bar(data['speed'], data['lists_count'], width=0.4, )\r\n",
        "plt.plot(data.groupby('speed')['lists_count'].mean(), color='orange', linewidth=2.7, label=\"Среднее значение\")\r\n",
        "plt.xticks(range(2,7))\r\n",
        "plt.axvline(x=4, color='r',linewidth=2.5, label=\"Скорость = 4\")\r\n",
        "plt.hlines(xmin=2, xmax=7, y=3, color='r',linewidth=2, label=\"Листов с браком = 3\", linestyle = ':')\r\n",
        "plt.title(\"Соотношение количества брака и скорости\\n\")\r\n",
        "plt.xlabel('Cкорость (м/c)')\r\n",
        "plt.ylabel('Количество листов с браком')\r\n",
        "plt.legend()\r\n",
        "plt.grid(alpha=.5)"
      ],
      "execution_count": null,
      "outputs": [
        {
          "output_type": "display_data",
          "data": {
            "image/png": "[encoded data removed]",
            "text/plain": [
              "<Figure size 648x432 with 1 Axes>"
            ]
          },
          "metadata": {
            "tags": [],
            "needs_background": "light"
          }
        }
      ]
    },
    {
      "cell_type": "markdown",
      "metadata": {
        "id": "cfTFPM2kmCWs"
      },
      "source": [
        "Даже с учетом \"выброса\" количества листов с браком при скорости равной ~2.7 м/c видно, что при скоростях > 4 м/c количество брака выше."
      ]
    },
    {
      "cell_type": "markdown",
      "metadata": {
        "id": "87-TPWpmmqw6"
      },
      "source": [
        "Проверим средний доверительный интервал при скоростях до и после 4 м/c:"
      ]
    },
    {
      "cell_type": "code",
      "metadata": {
        "colab": {
          "base_uri": "https://localhost:8080/"
        },
        "id": "4aXB04ipoxLM",
        "outputId": "cb511bb4-1f84-416d-890f-68ab3506ad13"
      },
      "source": [
        "# меньше 4 м/c\r\n",
        "mean_confidence_interval(data.query('speed <= 4 and lists_count > 3')['lists_count'])"
      ],
      "execution_count": null,
      "outputs": [
        {
          "output_type": "execute_result",
          "data": {
            "text/plain": [
              "{'interval_90': (4.383112007929223, 5.356018426853386),\n",
              " 'interval_95': (4.282053634235697, 5.457076800546912),\n",
              " 'mean': 4.869565217391305}"
            ]
          },
          "metadata": {
            "tags": []
          },
          "execution_count": 22
        }
      ]
    },
    {
      "cell_type": "code",
      "metadata": {
        "colab": {
          "base_uri": "https://localhost:8080/"
        },
        "id": "T0MVC-2Hi6Ne",
        "outputId": "641916fb-5c6d-4247-97cc-65fb62f34787"
      },
      "source": [
        "# больше 4 м/c\r\n",
        "mean_confidence_interval(data.query('speed > 4 and lists_count > 3')['lists_count'])"
      ],
      "execution_count": null,
      "outputs": [
        {
          "output_type": "execute_result",
          "data": {
            "text/plain": [
              "{'interval_90': (4.820919701799496, 5.287188406308613),\n",
              " 'interval_95': (4.775160208256021, 5.332947899852088),\n",
              " 'mean': 5.054054054054054}"
            ]
          },
          "metadata": {
            "tags": []
          },
          "execution_count": 23
        }
      ]
    },
    {
      "cell_type": "markdown",
      "metadata": {
        "id": "oM4ht78tpssl"
      },
      "source": [
        "Хоть среднее значение при скоростях < 4 м/c меньше среднего значения при скоростях > 4 м/c (4.87 и 5.05 соответственно), однако оба доверительных интервала (90 и 95%) при скоростях больших 4 м/c находятся внутри аналогичных интервалов для партий со скоростью менее 4 м/c, что не позволяет однозначно утверждать о том, что гипотеза верна.<br>"
      ]
    },
    {
      "cell_type": "markdown",
      "metadata": {
        "id": "NdjOyEJWriT7"
      },
      "source": [
        "Воспользуемся еще одним способом - проверим равенство средних двух совокупностей с помощью метода **scipy.stats.ttest_ind()**.<br>\r\n",
        "Сформулируем нулевую и альтернативные гипотезы:<br>\r\n",
        "**Нулевая гипотеза:** среднее количество бракованных листов в партиях (где бракованных листов >3) со скоростю менее и более 4 м/c равны.<br>\r\n",
        "**Альтернативная гипотеза:** среднее количество бракованных листов в партиях (где бракованных листов >3) со скоростю менее и более 4 м/c не равны.<br>"
      ]
    },
    {
      "cell_type": "code",
      "metadata": {
        "colab": {
          "base_uri": "https://localhost:8080/"
        },
        "id": "JMIoPHOFomyX",
        "outputId": "790c4978-e858-464d-e758-e4c773c73236"
      },
      "source": [
        "alpha = 0.01 # критический уровень статистической значимости\r\n",
        "\r\n",
        "#Игры Экшен за последние 9 лет\r\n",
        "less4 = data.query('speed <=4 and lists_count > 3')['lists_count']\r\n",
        "#Игры Спорт за последние 9 лет\r\n",
        "more4 = data.query('speed > 4 and lists_count > 3')['lists_count']\r\n",
        "\r\n",
        "hypo_2 = st.ttest_ind(\r\n",
        "    less4, \r\n",
        "    more4)\r\n",
        "print('p-значение:', hypo_2.pvalue)\r\n",
        "\r\n",
        "if (hypo_2.pvalue < alpha):\r\n",
        "    print(\"Отвергаем нулевую гипотезу\")\r\n",
        "else:\r\n",
        "    print(\"Не получилось опровергнуть нулевую гипотезу\")"
      ],
      "execution_count": null,
      "outputs": [
        {
          "output_type": "stream",
          "text": [
            "p-значение: 0.535079103101503\n",
            "Не получилось опровергнуть нулевую гипотезу\n"
          ],
          "name": "stdout"
        }
      ]
    },
    {
      "cell_type": "markdown",
      "metadata": {
        "id": "g_GxhNietRtK"
      },
      "source": [
        "Тот факт, что гипотезу о равенстве средних не удалость опровергнуть не означает, что она верна, однако и доказать её исходя из данной выборки не получилось."
      ]
    },
    {
      "cell_type": "markdown",
      "metadata": {
        "id": "hzjdpIJNryAK"
      },
      "source": [
        "*Прим. - Для проверки гипотез применили метод scipy.stats.ttest_ind(), поскольку сравнивались средние двух независимых совокупностей по взятым из них выборкам (данные за 2018 год могут быть неполными).*"
      ]
    }
  ]
}
